{
 "cells": [
  {
   "cell_type": "code",
   "execution_count": 12,
   "id": "10203776-c7af-4b32-99a7-42c8b1bc83da",
   "metadata": {},
   "outputs": [
    {
     "name": "stdout",
     "output_type": "stream",
     "text": [
      "编程好难\n"
     ]
    }
   ],
   "source": [
    "#3.1\n",
    "print('编程好难')"
   ]
  },
  {
   "cell_type": "code",
   "execution_count": 3,
   "id": "736ba2e5-6c7f-4706-8c5b-a05bafe6950c",
   "metadata": {},
   "outputs": [
    {
     "name": "stdout",
     "output_type": "stream",
     "text": [
      "helloworld!\n"
     ]
    }
   ],
   "source": [
    "print('helloworld!')"
   ]
  },
  {
   "cell_type": "code",
   "execution_count": 31,
   "id": "54d21ede-75a6-4046-9eaa-f20ebaa9aa21",
   "metadata": {},
   "outputs": [
    {
     "name": "stdout",
     "output_type": "stream",
     "text": [
      "阿巴阿巴阿巴阿巴阿巴阿巴阿巴阿巴阿巴阿巴阿巴阿巴阿巴阿巴阿巴阿巴阿巴阿巴阿巴阿巴阿巴阿巴阿巴阿巴阿巴阿巴阿巴阿巴阿巴阿巴阿巴阿巴阿巴阿巴阿巴阿巴阿巴阿巴阿巴阿巴阿巴阿巴阿巴阿巴阿巴阿巴阿巴阿巴阿巴阿巴\n"
     ]
    }
   ],
   "source": [
    "print('阿巴'*50)\n",
    "\n"
   ]
  },
  {
   "cell_type": "code",
   "execution_count": 16,
   "id": "d6fd5da3-f548-4d38-8d62-4344037b3e01",
   "metadata": {},
   "outputs": [
    {
     "name": "stdout",
     "output_type": "stream",
     "text": [
      "2\n"
     ]
    }
   ],
   "source": [
    "print(3-1)"
   ]
  },
  {
   "cell_type": "code",
   "execution_count": 15,
   "id": "0d331ffb-68ff-486c-aefa-8f101a79945d",
   "metadata": {},
   "outputs": [
    {
     "name": "stdout",
     "output_type": "stream",
     "text": [
      "3.08\n",
      "1\n",
      "1.3333333333333333\n",
      "0\n"
     ]
    }
   ],
   "source": [
    "print(3+2/5**2)\n",
    "print(4//3)\n",
    "print(4/3)\n",
    "print(9%3)"
   ]
  },
  {
   "cell_type": "code",
   "execution_count": 30,
   "id": "b3224ddd-c03a-46ab-a6f2-ceff72d8e382",
   "metadata": {},
   "outputs": [
    {
     "name": "stdout",
     "output_type": "stream",
     "text": [
      "10200\n",
      "a= 10200\n",
      "a=10200.00\n",
      "a=10200.00\n"
     ]
    }
   ],
   "source": [
    "#3.2\n",
    "x=100\n",
    "a=100+x+100*x\n",
    "print(a)\n",
    "print('a=',a)\n",
    "print('a=%.2f'%a)# #%字符串格式化\n",
    "print('a={:.2f}'.format(a))#format()字符串格式化"
   ]
  },
  {
   "cell_type": "code",
   "execution_count": 6,
   "id": "2f94411f-392e-47e9-8c19-127d9c0f6847",
   "metadata": {},
   "outputs": [
    {
     "name": "stdout",
     "output_type": "stream",
     "text": [
      "t=10\n"
     ]
    }
   ],
   "source": [
    "x,y,b=3,1,1\n",
    "t=2*x+3*y+b\n",
    "print(\"t={}\".format(t))\n"
   ]
  },
  {
   "cell_type": "code",
   "execution_count": 18,
   "id": "aebef8c8-d40b-4d28-806d-ec931a2bba02",
   "metadata": {},
   "outputs": [
    {
     "name": "stdout",
     "output_type": "stream",
     "text": [
      "The longitude of the Xi'an coordinate is108.942292 , and the latitude is 34.261013.\n",
      "The longitude of the Xi'an coordinate is108.94 , and the latitude is 34.26.\n"
     ]
    }
   ],
   "source": [
    "city_name=\"Xi'an\"\n",
    "a=108.942292\n",
    "b=34.261013\n",
    "print(\"The longitude of the Xi'an coordinate is{a} , and the latitude is {b}.\".format(a=a,b=b))\n",
    "print(\"The longitude of the Xi'an coordinate is{a:.2f} , and the latitude is {b:.2f}.\".format(a=a,b=b))\n",
    "\n"
   ]
  },
  {
   "cell_type": "code",
   "execution_count": 24,
   "id": "3ec485d6-0c4c-417e-b106-8c51928b4f0c",
   "metadata": {},
   "outputs": [],
   "source": [
    "#3.3.2\n",
    "list01=list(range(10))\n"
   ]
  },
  {
   "cell_type": "code",
   "execution_count": 6,
   "id": "c5025049-5db2-4267-84e0-76a0fb507617",
   "metadata": {},
   "outputs": [
    {
     "name": "stdout",
     "output_type": "stream",
     "text": [
      "[5, 8, 11, 14, 17, 20, 23, 26]\n",
      "The list length=8\n",
      "Maximum value=26\n",
      "Minimum value=5\n"
     ]
    }
   ],
   "source": [
    "lst1=list(range(5,29,3)) #建立列表。range(start,stop,[,step])建立区间。\n",
    "print(lst1)\n",
    "print(\"The list length={}\".format(len(lst1)))\n",
    "print(\"Maximum value={}\".format(max(lst1)))\n",
    "print(\"Minimum value={}\".format(min(lst1)))\n"
   ]
  },
  {
   "cell_type": "code",
   "execution_count": 28,
   "id": "a33c2fa3-24d5-4afc-864e-b9587c5323f3",
   "metadata": {},
   "outputs": [
    {
     "name": "stdout",
     "output_type": "stream",
     "text": [
      "['d', 'e', 'f', 'g', 'h', 'i', 'j', 'k', 'l', 'm', 'n', 'o', 'p', 'q', 'r', 's', 't', 'u', 'v', 'w', 'x', 'y', 'z']\n",
      "__________________________________________________\n",
      "[4:6]->['h', 'i']\n",
      "[-3:-1]->['x', 'y']\n",
      "[-3:]->['x', 'y', 'z']\n",
      "[:3]->['d', 'e', 'f']\n",
      "[:]->['d', 'e', 'f', 'g', 'h', 'i', 'j', 'k', 'l', 'm', 'n', 'o', 'p', 'q', 'r', 's', 't', 'u', 'v', 'w', 'x', 'y', 'z']\n"
     ]
    }
   ],
   "source": [
    "lst_s=list(map(chr,range(100,123)))#分片?\n",
    "print(lst_s)\n",
    "print(\"_\"*50)\n",
    "print(\"[4:6]->{}\".format(lst_s[4:6]))\n",
    "print(\"[-3:-1]->{}\".format(lst_s[-3:-1]))\n",
    "print(\"[-3:]->{}\".format(lst_s[-3:]))\n",
    "print(\"[:3]->{}\".format(lst_s[:3]))\n",
    "print(\"[:]->{}\".format(lst_s[:]))\n"
   ]
  },
  {
   "cell_type": "code",
   "execution_count": 21,
   "id": "1cbbaa80-cac2-46da-9a7e-ce8efd0b105b",
   "metadata": {},
   "outputs": [
    {
     "name": "stdout",
     "output_type": "stream",
     "text": [
      "Help on class map in module builtins:\n",
      "\n",
      "class map(object)\n",
      " |  map(func, *iterables) --> map object\n",
      " |  \n",
      " |  Make an iterator that computes the function using arguments from\n",
      " |  each of the iterables.  Stops when the shortest iterable is exhausted.\n",
      " |  \n",
      " |  Methods defined here:\n",
      " |  \n",
      " |  __getattribute__(self, name, /)\n",
      " |      Return getattr(self, name).\n",
      " |  \n",
      " |  __iter__(self, /)\n",
      " |      Implement iter(self).\n",
      " |  \n",
      " |  __next__(self, /)\n",
      " |      Implement next(self).\n",
      " |  \n",
      " |  __reduce__(...)\n",
      " |      Return state information for pickling.\n",
      " |  \n",
      " |  ----------------------------------------------------------------------\n",
      " |  Static methods defined here:\n",
      " |  \n",
      " |  __new__(*args, **kwargs) from builtins.type\n",
      " |      Create and return a new object.  See help(type) for accurate signature.\n",
      "\n"
     ]
    }
   ],
   "source": [
    "help(map) #用help()方法查看说明\n"
   ]
  },
  {
   "cell_type": "code",
   "execution_count": 18,
   "id": "e7c17fc8-2fd9-4e9d-84c8-9cb2e76d24c6",
   "metadata": {},
   "outputs": [
    {
     "name": "stdout",
     "output_type": "stream",
     "text": [
      "Help on built-in function chr in module builtins:\n",
      "\n",
      "chr(i, /)\n",
      "    Return a Unicode string of one character with ordinal i; 0 <= i <= 0x10ffff.\n",
      "\n"
     ]
    }
   ],
   "source": [
    "help(chr)"
   ]
  },
  {
   "cell_type": "code",
   "execution_count": 38,
   "id": "5df3c146-5e5b-4a7e-bfdc-2d097819eacf",
   "metadata": {},
   "outputs": [
    {
     "name": "stdout",
     "output_type": "stream",
     "text": [
      "['d', 'e', 'f', 'g', 'h', 99, 'j', 'k', 'l', 'm', 99, 'o', 'p', 'q', 'r', 's', 't', 'u', 'v', 'w', 99, 'y', 'z']\n",
      "__________________________________________________\n",
      "lst_s[5=99->['d', 'e', 'f', 'g', 'h', 99, 'j', 'k', 'l', 'm', 99, 'o', 'p', 'q', 'r', 's', 't', 'u', 'v', 'w', 99, 'y', 'z']\n",
      "lst_s+[None]*6->['d', 'e', 'f', 'g', 'h', 99, 'j', 'k', 'l', 'm', 99, 'o', 'p', 'q', 'r', 's', 't', 'u', 'v', 'w', 99, 'y', 'z', None, None, None, None, None, None]\n",
      "lst_none[13]=2015->['d', 'e', 'f', 'g', 'h', 99, 'j', 'k', 'l', 'm', 99, 'o', 'p', 2015, 'r', 's', 't', 'u', 'v', 'w', 99, 'y', 'z', None, None, None, None, None, None]\n",
      "lst_none[-6:-3]=list(range(100,104,2))->['d', 'e', 'f', 'g', 'h', 99, 'j', 'k', 'l', 'm', 99, 'o', 'p', 2015, 'r', 's', 't', 'u', 'v', 'w', 99, 'y', 'z', 100, 102, None, None, None]\n",
      "lst_none[1:1]=[0,0,0,12]->['d', 0, 0, 0, 12, 'e', 'f', 'g', 'h', 99, 'j', 'k', 'l', 'm', 99, 'o', 'p', 2015, 'r', 's', 't', 'u', 'v', 'w', 99, 'y', 'z', 100, 102, None, None, None]\n",
      "del lst_none[-2:]->['d', 0, 0, 0, 12, 'e', 'f', 'g', 'h', 99, 'j', 'k', 'l', 'm', 99, 'o', 'p', 2015, 'r', 's', 't', 'u', 'v', 'w', 99, 'y', 'z', 100, 102, None]\n"
     ]
    }
   ],
   "source": [
    "print(lst_s)\n",
    "print(\"_\"*50)\n",
    "lst_s[5]=99 #在每五个元素后加99\n",
    "print(\"lst_s[5=99->{}\".format(lst_s))\n",
    "lst_none=lst_s+[None]*6 #建立一个新列表，在列表最后加6个“空”\n",
    "print(\"lst_s+[None]*6->{}\".format(lst_none))\n",
    "lst_none[13]=2015#与上述操作相同，每十三个元素后加2015\n",
    "print(\"lst_none[13]=2015->{}\".format(lst_none))\n",
    "lst_none[-6:-3]=list(range(100,104,2)) #将后面的list赋值至前面的list中\n",
    "print(\"lst_none[-6:-3]=list(range(100,104,2))->{}\".format(lst_none))\n",
    "lst_none[1:1]=[0,0,0,12]\n",
    "print(\"lst_none[1:1]=[0,0,0,12]->{}\".format(lst_none))\n",
    "del lst_none[-2:] #删除元素\n",
    "print(\"del lst_none[-2:]->{}\".format(lst_none))#删除了选中的元素\n"
   ]
  },
  {
   "cell_type": "code",
   "execution_count": 4,
   "id": "4df7d671-f201-4357-901f-c2f24226efcb",
   "metadata": {},
   "outputs": [
    {
     "name": "stdout",
     "output_type": "stream",
     "text": [
      "['d', 'e', 'f', 'g', 'h']\n",
      "__________________________________________________\n",
      "lst_s_2.append(99)->['d', 'e', 'f', 'g', 'h', 99]\n",
      "lst_s_2.append(list(range(50,80,5)))->['d', 'e', 'f', 'g', 'h', 99, [50, 55, 60, 65, 70, 75]]\n",
      "lst_s_2.extend(lst_spechars)->['d', 'e', 'f', 'g', 'h', 99, [50, 55, 60, 65, 70, 75], '*', ')', '*']\n",
      "lst_s_2.count('*')=2\n",
      "lst_s_2.index('e')=1\n",
      "lst_s_2.insert(2,[1000,1200,1500])->['d', 'e', [1000, 1200, 1500], 'f', 'g', 'h', 99, [50, 55, 60, 65, 70, 75], '*', ')', '*']\n",
      "lst_s_2.pop(7)_popup->[50, 55, 60, 65, 70, 75]\n",
      "lst_s_2.pop(7)_retention->['d', 'e', [1000, 1200, 1500], 'f', 'g', 'h', 99, '*', ')', '*']\n",
      "lst_s_2.remove('*')_retention->['d', 'e', [1000, 1200, 1500], 'f', 'g', 'h', 99, ')', '*']\n",
      "list_n_2.sort()->[2, 3, 4, 6, 42, 95]\n"
     ]
    }
   ],
   "source": [
    "lst_s_2=list(map(chr,range(100,105)))\n",
    "print(lst_s_2)\n",
    "print(\"_\"*50)\n",
    "lst_s_2.append(99)#append是将原对象作为一个整体加入到列表中，加入以后原列表增加了一个元素。\n",
    "print(\"lst_s_2.append(99)->{}\".format(lst_s_2))#输出原有list的基础上后面加了数字99\n",
    "lst_s_2.append(list(range(50,80,5)))\n",
    "print(\"lst_s_2.append(list(range(50,80,5)))->{}\".format(lst_s_2))#输出原有list的基础上后面加了新的list，新的list没有格式化\n",
    "lst_spechars=['*',')','*']\n",
    "lst_s_2.extend(lst_spechars)#spechars规格\n",
    "print(\"lst_s_2.extend(lst_spechars)->{}\".format(lst_s_2))#输出原有list的基础上后面加了新的list，并将新的list格式化\n",
    "print(\"lst_s_2.count('*')={}\".format(lst_s_2.count('*')))#搜索list中有几个*，并输出数量\n",
    "print(\"lst_s_2.index('e')={}\".format(lst_s_2.index('e')))#index检索\n",
    "lst_s_2.insert(2,[1000,1200,1500])#insert将指定对象插入列表中的指定位置\n",
    "print(\"lst_s_2.insert(2,[1000,1200,1500])->{}\".format(lst_s_2))#将新的列表插入旧列表第二个元素之后\n",
    "print(\"lst_s_2.pop(7)_popup->{}\".format(lst_s_2.pop(7)))#pop/popup函数指移除列表中的某个值，并返还该值。上述语言的意思便是移除列表中第七个值，并返还该值。\n",
    "print(\"lst_s_2.pop(7)_retention->{}\".format(lst_s_2))\n",
    "lst_s_2.remove('*')#remove函数指的是移除列表中某个元素的第一个匹配项。\n",
    "print(\"lst_s_2.remove('*')_retention->{}\".format(lst_s_2))#移除该函数中第一个‘*‘\n",
    "list_n_2=[2,42,6,95,4,3]\n",
    "list_n_2.sort()#sort函数指对列表进行排序。如果指定了排序方法，则使用指定的函数。\n",
    "print(\"list_n_2.sort()->{}\".format(list_n_2))\n"
   ]
  },
  {
   "cell_type": "code",
   "execution_count": 48,
   "id": "6ba9eabc-45d5-433d-b0a7-e5c429710153",
   "metadata": {},
   "outputs": [
    {
     "name": "stdout",
     "output_type": "stream",
     "text": [
      "list04.index(100)=1\n"
     ]
    }
   ],
   "source": [
    "list04=[1,100,100,100,1,2,3]#index检索字符串中是否包含子字符串str，如果指定了检测范围，则检测是否在指定范围里。语法为str.index(str.beg=0.end=len(tring))\n",
    "print(\"list04.index(100)={}\".format(list04.index(100)))"
   ]
  },
  {
   "cell_type": "code",
   "execution_count": 33,
   "id": "41a96bd1-7ea2-440b-8073-b3e5039d908a",
   "metadata": {},
   "outputs": [
    {
     "name": "stdout",
     "output_type": "stream",
     "text": [
      "tuple_1=2,3,5,->(2, 3, 5)\n",
      "3*(20*3,)->(60, 60, 60)\n",
      "tuple((5,8,9))->(5, 8, 9)\n",
      "tuple([5,8,9])->(5, 8, 9)\n"
     ]
    }
   ],
   "source": [
    "#3.3.3tuple元组  通常用于不用被修改的\n",
    "tuple_1=2,3,5,\n",
    "print(\"tuple_1=2,3,5,->{}\".format(tuple_1))\n",
    "print(\"3*(20*3,)->{}\".format(3*(20*3,)))\n",
    "print(\"tuple((5,8,9))->{}\".format(tuple((5,8,9)))) #用()\n",
    "print(\"tuple([5,8,9])->{}\".format(tuple([5,8,9]))) #用[]\n"
   ]
  },
  {
   "cell_type": "code",
   "execution_count": 20,
   "id": "f5d7d69c-2e6b-43ca-83aa-474b05006c19",
   "metadata": {},
   "outputs": [
    {
     "name": "stdout",
     "output_type": "stream",
     "text": [
      "items->[(0, [0, 1, 2, 3, 4]), (1, [[170, 174, 169]]), (2, 'python')]\n",
      "dic=dict(items)->{0: [0, 1, 2, 3, 4], 1: [[170, 174, 169]], 2: 'python'}\n",
      "dic[1]->[[170, 174, 169]]\n",
      "len(dic)->3\n",
      "dic[3]=(random.random(),random.uniform(200,300))->{0: [0, 1, 2, 3, 4], 1: [[170, 174, 169]], 2: 'python', 3: (0.21929935071585882, 201.06631354817426)}\n",
      "del dic[1]->{0: [0, 1, 2, 3, 4], 2: 'python', 3: (0.21929935071585882, 201.06631354817426)}\n",
      "3 in dic->True\n",
      "5 in dic->False\n",
      "dic.keys()->dict_keys([0, 2, 3])\n",
      "dic.values()->dict_values([[0, 1, 2, 3, 4], 'python', (0.21929935071585882, 201.06631354817426)])\n",
      "dic.items()->dict_items([(0, [0, 1, 2, 3, 4]), (2, 'python'), (3, (0.21929935071585882, 201.06631354817426))])\n",
      "__________________________________________________\n",
      "list(dic.keys())->[0, 2, 3]\n"
     ]
    }
   ],
   "source": [
    "#3.3.4dictionnary\n",
    "import random\n",
    "items=[(0,[i for i in range(5)]),(1,[random.sample(list(range(100,200,1)),3)]),(2,'python')] #[i for i in range(5)] 为列表推导式 list comprehension/derivation\n",
    "print(\"items->{}\".format(items))\n",
    "dic=dict(items)\n",
    "print(\"dic=dict(items)->{}\".format(dic))\n",
    "print(\"dic[1]->{}\".format(dic[1]))\n",
    "print(\"len(dic)->{}\".format(len(dic)))\n",
    "dic[3]=(random.random(),random.uniform(200,300))\n",
    "print(\"dic[3]=(random.random(),random.uniform(200,300))->{}\".format(dic))\n",
    "del dic[1]\n",
    "print(\"del dic[1]->{}\".format(dic))\n",
    "print(\"3 in dic->{}\".format(3 in dic))\n",
    "print(\"5 in dic->{}\".format(5 in dic))\n",
    "print(\"dic.keys()->{}\".format(dic.keys())) \n",
    "print(\"dic.values()->{}\".format(dic.values()))\n",
    "print(\"dic.items()->{}\".format(dic.items()))\n",
    "print(\"_\"*50)\n",
    "print(\"list(dic.keys())->{}\".format(list(dic.keys())))\n"
   ]
  },
  {
   "cell_type": "code",
   "execution_count": 19,
   "id": "d6c48ef8-f72a-435a-9ad2-071009791113",
   "metadata": {},
   "outputs": [
    {
     "name": "stdout",
     "output_type": "stream",
     "text": [
      "dic[3]=(0,2,random.uniform(200,300))->{3: (0.2604428537801112, 253.6821385273853)}\n",
      "len(dic)->1\n",
      "dic[3]=(random.random(),random.uniform(200,300))->{3: (0.9377275765330253, 250.78041244424162)}\n",
      "del dic[0]->{}\n",
      "0 in dic->False\n",
      "3 in dic->False\n",
      "dic.keys()->dict_keys([])\n",
      "dic.values()->dict_values([])\n",
      "dic.items()->dict_items([])\n"
     ]
    }
   ],
   "source": [
    "#len指的是返回字典长度，语法为len(str),str是要计算的字典\n",
    "#uniform指的是随机生成下一个实数，且这个实数的范围在这个区间里\n",
    "print(\"dic[3]=(0,2,random.uniform(200,300))->{}\".format(dic))\n",
    "print(\"len(dic)->{}\".format(len(dic)))\n",
    "dic[3]=(random.random(),random.uniform(200,300))\n",
    "print(\"dic[3]=(random.random(),random.uniform(200,300))->{}\".format(dic))\n",
    "del dic[3]\n",
    "print(\"del dic[0]->{}\".format(dic))\n",
    "print(\"0 in dic->{}\".format(3 in dic))#判断字典里是否有0和3，有便是true，没有就是false\n",
    "print(\"3 in dic->{}\".format(5 in dic))\n",
    "print(\"dic.keys()->{}\".format(dic.keys())) #应该放在字典的方法一节里\n",
    "print(\"dic.values()->{}\".format(dic.values()))\n",
    "print(\"dic.items()->{}\".format(dic.items()))\n",
    "#这个做完不知道为啥老是错的，但是把这个放到上面的那个里面又对了。\n",
    "\n",
    "\n"
   ]
  },
  {
   "cell_type": "code",
   "execution_count": null,
   "id": "ab23b987-7841-4f5a-805e-7066277494d1",
   "metadata": {},
   "outputs": [],
   "source": []
  },
  {
   "cell_type": "code",
   "execution_count": 29,
   "id": "ee48fd40-8e04-41ec-b7cc-09bf466b80ba",
   "metadata": {},
   "outputs": [
    {
     "name": "stdout",
     "output_type": "stream",
     "text": [
      "lst_A=[6, 9, 12, 15, 18],lst_B=[100, 115, 130, 145]\n",
      "dic_2={0: [6, 9, 12, 15, 18], 1: [100, 115, 130, 145]}\n",
      "__________________________________________________\n",
      "dic_assignment={0: [6, 9, 12, 15, 18], 1: [100, 115, 130, 145]}\n",
      "dic_2.clear()->{}\n",
      "dic_assignment={}\n",
      "dic_2[5]=list(range(1,9,2))->{5: [1, 3, 5, 7]}\n",
      "dic_copy=dic_2.copy()->{5: [1, 3, 5, 7]}\n",
      "dic_2[8]=[5,7]->{5: [1, 3, 5, 7], 8: [5, 7]}\n",
      "dic_copy={5: [1, 3, 5, 7]}\n",
      "dic_copy[5].remove(5)->{5: [1, 3, 7]}\n",
      "dic_copy.setdefault(6,[77,99])->{5: [1, 3, 7], 6: [77, 99]}\n",
      "dic_2.pop(5)->{8: [5, 7]}\n",
      "dic_update={8: [5, 7, 6, 3, 2], 9: [3, 2, 33, 55, 66]}\n",
      "dic_2.update(dic_update->{8: [5, 7, 6, 3, 2], 9: [3, 2, 33, 55, 66]}\n",
      "dic_2.get(9)->[3, 2, 33, 55, 66]\n",
      "dic_2.popitem()->{8: [5, 7, 6, 3, 2]}\n",
      "dic_3={}.fromkeys([0,1,2,3,4,'A'])->{0: None, 1: None, 2: None, 3: None, 4: None, 'A': None}\n"
     ]
    }
   ],
   "source": [
    "lst_A=list(range(6,20,3))\n",
    "lst_B=list(range(100,150,15))\n",
    "print(\"lst_A={},lst_B={}\".format(lst_A,lst_B))\n",
    "dic_2={0:lst_A,1:lst_B}\n",
    "print(\"dic_2={}\".format(dic_2))\n",
    "print(\"_\"*50)\n",
    "dic_assignment=dic_2\n",
    "print(\"dic_assignment={}\".format(dic_assignment))\n",
    "dic_2.clear()\n",
    "print(\"dic_2.clear()->{}\".format(dic_2))\n",
    "print(\"dic_assignment={}\".format(dic_assignment))\n",
    "dic_2[5]=list(range(1,9,2))\n",
    "print(\"dic_2[5]=list(range(1,9,2))->{}\".format(dic_2))\n",
    "dic_copy=dic_2.copy()\n",
    "print(\"dic_copy=dic_2.copy()->{}\".format(dic_copy))\n",
    "dic_2[8]=[5,7]\n",
    "print(\"dic_2[8]=[5,7]->{}\".format(dic_2))\n",
    "print(\"dic_copy={}\".format(dic_copy))\n",
    "dic_copy[5].remove(5)\n",
    "print(\"dic_copy[5].remove(5)->{}\".format(dic_copy))\n",
    "dic_copy.setdefault(6,[77,99]) #返回指定键的值，如果不存在该键，则字典增加新的键/值对\n",
    "print(\"dic_copy.setdefault(6,[77,99])->{}\".format(dic_copy))\n",
    "dic_2.pop(5) #移除指定键/值，并返回该值\n",
    "print(\"dic_2.pop(5)->{}\".format(dic_2))\n",
    "dic_update={8:[5,7,6,3,2],9:[3,2,33,55,66]}\n",
    "print(\"dic_update={}\".format(dic_update))\n",
    "dic_2.update(dic_update) #更新字典\n",
    "print(\"dic_2.update(dic_update->{}\".format(dic_2))\n",
    "print(\"dic_2.get(9)->{}\".format(dic_2.get(9)))\n",
    "dic_2.popitem() #随即弹出一对键/值，并在该字典中移除\n",
    "print(\"dic_2.popitem()->{}\".format(dic_2))\n",
    "\n",
    "dic_3={}.fromkeys([0,1,2,3,4,'A']) #给定键，建立值为空的字典\n",
    "print(\"dic_3={}\"+\".fromkeys([0,1,2,3,4,'A'])->{}\".format(dic_3)) #找下escape characters 脱字符\n"
   ]
  },
  {
   "cell_type": "code",
   "execution_count": 38,
   "id": "5682032b-31cf-4552-9ec9-bfe01c3654fe",
   "metadata": {
    "jupyter": {
     "source_hidden": true
    },
    "tags": []
   },
   "outputs": [
    {
     "name": "stdout",
     "output_type": "stream",
     "text": [
      "lst_s_3=list(\"Hello Python!\")->['H', 'e', 'l', 'l', 'o', ' ', 'P', 'y', 't', 'h', 'o', 'n', '!']\n",
      "\"Hellow\"+\" Python!\"->Hellow Python!\n",
      "\"+\".join(str(123456))->1+2+3+4+5+6\n",
      "len(\"Hellow Python!\")->14\n",
      "coordinates.split(\",\")->['120.132007', '30.300508', '9.7']\n",
      "eval(coordinates)->(120.132007, 30.300508, 9.7)\n",
      "\"Hello Python!\".lower()->hello python!\n",
      "\"Hello Python!\".upper()->HELLO PYTHON!\n",
      "\"Hello Python!\"[6:]->Python!\n",
      "\"    Hello Python!    \".strip()->Hello Python!\n",
      "\"Hello Python!\".replace(\"Python\",\"Grasshopper\")->Hello Grasshopper!\n",
      "hello_lst.sort()>[' ', '!', 'H', 'P', 'e', 'h', 'l', 'l', 'n', 'o', 'o', 't', 'y']\n",
      "\"Hello Python!\".find(\"Py\")->6\n",
      "________________________________________________________________________________\n",
      "lst9=list('python no!'))->['p', 'y', 't', 'h', 'o', 'n', ' ', 'n', 'o', '!']\n",
      "\"python\"+\" no!\"->python no!\n",
      "\"+\".join(str(123456))->1+2+3+4+5+6\n",
      "len(\"python no!\")->10\n",
      "coordinates.split(\",\")->['120.132007', '30.300508', '9.7']\n",
      "eval(coordinates)->(120.132007, 30.300508, 9.7)\n",
      "\"python no!\".lower()->python no!\n",
      "\"python no!\".upper()->PYTHON NO!\n",
      "\"python no!\"[8:]->o!\n",
      "\"    python no!    \".strip()->python no!\n",
      "\"Python no!\".replace(\"no\",\"Cup\")->Python Cup!\n",
      "hello_lst.sort()>[' ', '!', 'h', 'n', 'n', 'o', 'o', 'p', 't', 'y']\n",
      "\"python no!\".find(\"py\")->0\n"
     ]
    }
   ],
   "source": [
    "#3.3.5string\n",
    "print(\"_\"*80)\n",
    "lst9=list('python no!')\n",
    "print(\"lst9=list(\\'python no!\\'))->{}\".format(lst9))\n",
    "print(\"\\\"python\\\"+\\\" no!\\\"->{}\".format(\"python\"+\" no!\"))\n",
    "print(\"\\\"+\\\".join(str(123456))->{}\".format(\"+\".join(str(123456))))\n",
    "#把字符串、元组、列表中的元素以指定的字符 (分隔符)连接生成一个新的字符串，而且分隔的字符也可以是一个字符串\n",
    "print(\"len(\\\"python no!\\\")->{}\".format(len(\"python no!\")))#返回字符串的长度。\n",
    "coordinates=\"120.132007,30.300508,9.7\"\n",
    "print(\"coordinates.split(\\\",\\\")->{}\".format(coordinates.split(\",\")))\n",
    "#就是将一个字符串分裂成多个字符串，并以列表的形式返回。语法：str.split (str=\"\", num=string.count (str))，参数：str -- 分隔符，默认为所有的空字符，包括空格、换行 (n)、制表符 (t)等；num -- 分割次数。\n",
    "print(\"eval(coordinates)->{}\".format(eval(coordinates)))#将字符串，转换为对应数值形式\n",
    "print(\"\\\"python no!\\\".lower()->{}\".format(\"python no!\".lower()))#转化为小写\n",
    "print(\"\\\"python no!\\\".upper()->{}\".format(\"python no!\".upper()))#转化为大写\n",
    "print(\"\\\"python no!\\\"[8:]->{}\".format(\"python no!\"[8:]))#显示第八个数值以后的数值。\n",
    "print(\"\\\"    python no!    \\\".strip()->{}\".format(\"    python no!    \".strip()))\n",
    "#strip返回字符串的副本，并删除前导和后缀字符。\n",
    "print(\"\\\"Python no!\\\".replace(\\\"no\\\",\\\"Cup\\\")->{}\".format(\"Python no!\".replace(\"no\",\"Cup\")))\n",
    "#replace把旧字符替换成新字符\n",
    "hello_lst=list(\"python no!\")\n",
    "hello_lst.sort()#sort对列表进行排序\n",
    "print(\"hello_lst.sort()>{}\".format(hello_lst))\n",
    "print(\"\\\"python no!\\\".find(\\\"py\\\")->{}\".format(\"python no!\".find(\"py\")))\n",
    "#检测字符串中是否包含子字符串 str ，如果指定 beg（开始） 和 end（结束） 范围，则检查是否包含在指定范围内，如果包含子字符串返回开始的索引值，否则返回-1\n",
    "\n",
    "\n",
    "\n",
    "\n",
    "\n",
    "\n"
   ]
  },
  {
   "cell_type": "code",
   "execution_count": 43,
   "id": "7345110c",
   "metadata": {},
   "outputs": [
    {
     "name": "stdout",
     "output_type": "stream",
     "text": [
      "new_str=format_str % values->Hello,'mum' and 'dad'!\n",
      "new_str_2=format_str_2 % (pi,3.1415926)->Pi with three decimals:3.142,and enter a value with percent sign:3.14 %\n"
     ]
    }
   ],
   "source": [
    "format_str=\"Hello,%r and %r!\"\n",
    "values=(\"mum\",\"dad\")\n",
    "new_str=format_str % values\n",
    "print(\"new_str=format_str % values->{}\".format(new_str))\n",
    "\n",
    "format_str_2=\"Pi with three decimals:%.3f,and enter a value with percent sign:%.2f %%\" \n",
    "#如果字符串里包含实际的%，则通过%%即两个百分号进行转义\n",
    "\n",
    "from math import pi\n",
    "new_str_2=format_str_2 % (pi,3.1415926)\n",
    "print(\"new_str_2=format_str_2 % (pi,3.1415926)->{}\".format(new_str_2))\n"
   ]
  },
  {
   "cell_type": "code",
   "execution_count": 67,
   "id": "0655e1d5",
   "metadata": {},
   "outputs": [
    {
     "name": "stdout",
     "output_type": "stream",
     "text": [
      "s1=s_template1.substitute(x=\"Python\")->Architect,glorious,Architect!\n",
      "s2=s_template2.substitute(x=\"Ar\")->Architecture is amazing!\n",
      "substitute_dict={'x': 'Wu Mengyue', 'y': 'JKzheng'}\n",
      "s3=s_template3.substitute(substitute_dict)->Wu Mengyue and JKzheng are both amazing!\n"
     ]
    }
   ],
   "source": [
    "from string import Template\n",
    "#template是string中的一个类，可以将字符串的格式固定下来重复利用。\n",
    "s_template1=Template(\"$x,glorious,$x!\")#先生成一个模板实例x\n",
    "s1=s_template1.substitute(x=\"Architect\")#调用替换函数substitute（）将模板中的两个地方替换掉\n",
    "print(\"s1=s_template1.substitute(x=\\\"Python\\\")->{}\".format(s1))\n",
    "s_template2=Template(\"${x}chitecture is amazing!\")#也可以替换某个字符串里面的内容\n",
    "s2=s_template2.substitute(x=\"Ar\")\n",
    "print(\"s2=s_template2.substitute(x=\\\"Ar\\\")->{}\".format(s2))\n",
    "s_template3=Template(\"$x and $y are both amazing!\")\n",
    "substitute_dict=dict([('x','Wu Mengyue'),('y','JKzheng')])#dictionary可储存任意类型对象。\n",
    "print(\"substitute_dict={}\".format(substitute_dict))#也可以处理字典的值\n",
    "s3=s_template3.substitute(substitute_dict)\n",
    "print(\"s3=s_template3.substitute(substitute_dict)->{}\".format(s3))\n"
   ]
  },
  {
   "cell_type": "code",
   "execution_count": 11,
   "id": "59f3f03e",
   "metadata": {},
   "outputs": [
    {
     "name": "stdout",
     "output_type": "stream",
     "text": [
      "re.findall(pattern_1,text)->['兔子']\n",
      "re.findall(pattern_2,text)->[]\n"
     ]
    }
   ],
   "source": [
    "#3.3.6string-re正则表达式\n",
    "#正则表达式 匹配文本片段 正则表达式可以匹配字符串\n",
    "import re#import用来调用模块\n",
    "pattern_1='兔子'\n",
    "text=\"你好 兔子!\"\n",
    "print(\"re.findall(pattern_1,text)->{}\".format(re.findall(pattern_1,text)))\n",
    "pattern_2='兔兔子'\n",
    "print(\"re.findall(pattern_2,text)->{}\".format(re.findall(pattern_2,text)))\n"
   ]
  },
  {
   "cell_type": "code",
   "execution_count": 12,
   "id": "fb97d477-eb37-4bd8-8ead-b042e2d7dffb",
   "metadata": {},
   "outputs": [
    {
     "name": "stdout",
     "output_type": "stream",
     "text": [
      "re.findall('.子','Hello 兔子!')->['兔子']\n",
      "re.findall('..zheng','Hello jkzheng!')->['jkzheng']\n",
      "re.findall('..zheng','Hello jKzheng!')->['jKzheng']\n",
      "re.findall('.zheng','好久不见 jheng!')->[]\n"
     ]
    }
   ],
   "source": [
    "#用.来替换字符串\n",
    "print(\"re.findall('.子','Hello 兔子!')->{}\".format(re.findall('.子','Hello 兔子!')))\n",
    "print(\"re.findall('..zheng','Hello jkzheng!')->{}\".format(re.findall('..zheng','Hello jkzheng!')))\n",
    "print(\"re.findall('..zheng','Hello jKzheng!')->{}\".format(re.findall('..zheng','Hello jKzheng!')))\n",
    "print(\"re.findall('.zheng','好久不见 jheng!')->{}\".format(re.findall('.zheng','好久不见 jheng!')))#前后不一致则不能被识别到\n"
   ]
  },
  {
   "cell_type": "code",
   "execution_count": 86,
   "id": "0f880224-b333-4565-9f27-ed7c05540882",
   "metadata": {},
   "outputs": [
    {
     "name": "stdout",
     "output_type": "stream",
     "text": [
      "re.findall(r'w?cadesign\\.cn,w+\\.cadesign\\.cn','cadesign.cn,www.cadesign.cn')->['cadesign.cn,www.cadesign.cn']\n",
      "re.findall(r'w{2}\\.cadesign\\.cn','www.cadesign.cn')->['ww.cadesign.cn']\n",
      "re.findall(r'w{1,3}\\.cadesign\\.cn','www.cadesign.cn')->['www.cadesign.cn']\n"
     ]
    }
   ],
   "source": [
    "#re findall 方法能够以列表的形式返回能匹配的子串\n",
    "print(\"re.findall(r'w?cadesign\\.cn,w+\\.cadesign\\.cn','cadesign.cn,www.cadesign.cn')->{}\".format(re.findall(r'w?cadesign\\.cn,w+\\.cadesign\\.cn','cadesign.cn,www.cadesign.cn')))\n",
    "print(\"re.findall(r'w{2}\"+\"\\.cadesign\\.cn','www.cadesign.cn')->{}\".format(re.findall(r'w{2}\\.cadesign\\.cn','www.cadesign.cn')))\n",
    "print(\"re.findall(r'w{1,3}\"+\"\\.cadesign\\.cn','www.cadesign.cn')->{}\".format(re.findall(r'w{1,3}\\.cadesign\\.cn','www.cadesign.cn')))\n"
   ]
  },
  {
   "cell_type": "code",
   "execution_count": 13,
   "id": "f1ddf49b-fa23-4161-a9e9-bf10627c88c6",
   "metadata": {},
   "outputs": [
    {
     "name": "stdout",
     "output_type": "stream",
     "text": [
      "re.findall('[Py]*thon!','Hello Python!')->['Python!']\n",
      "re.findall('[Py]*thon!','Hello Pthon!')->['Pthon!']\n",
      "re.findall('[Py]*thon!','Hello ython!')->['ython!']\n",
      "re.findall('[Py]*thon!','Hello ython!')->['thon!']\n"
     ]
    }
   ],
   "source": [
    "#[]匹配一组字符\n",
    "print(\"re.findall('[Py]*thon!','Hello Python!')->{}\".format(re.findall('[Py]*thon!','Hello Python!')))\n",
    "print(\"re.findall('[Py]*thon!','Hello Pthon!')->{}\".format(re.findall('[Py]*thon!','Hello Pthon!')))\n",
    "print(\"re.findall('[Py]*thon!','Hello ython!')->{}\".format(re.findall('[Py]*thon!','Hello ython!')))\n",
    "print(\"re.findall('[Py]*thon!','Hello ython!')->{}\".format(re.findall('[Py]*thon!','Hello thon!')))\n"
   ]
  },
  {
   "cell_type": "code",
   "execution_count": 14,
   "id": "5c625f93-44cb-424b-b0bb-f62c1893f326",
   "metadata": {},
   "outputs": [
    {
     "name": "stdout",
     "output_type": "stream",
     "text": [
      "re.findall('python|grasshopper','python')->['python']\n",
      "re.findall('python|grasshopper','grasshopper')->['grasshopper']\n",
      "re.findall('python|grasshopper','grasshopper and python')->['grasshopper', 'python']\n"
     ]
    }
   ],
   "source": [
    "#管道符号，后面选中哪个就会输出哪个\n",
    "print(\"re.findall('python|grasshopper','python')->{}\".format(re.findall('python|grasshopper','python')))\n",
    "print(\"re.findall('python|grasshopper','grasshopper')->{}\".format(re.findall('python|grasshopper','grasshopper')))\n",
    "print(\"re.findall('python|grasshopper','grasshopper and python')->{}\".format(re.findall('python|grasshopper','grasshopper and python')))\n"
   ]
  },
  {
   "cell_type": "code",
   "execution_count": 17,
   "id": "8ce9f7e2-c471-4abb-b789-81b6b64c953e",
   "metadata": {},
   "outputs": [
    {
     "name": "stdout",
     "output_type": "stream",
     "text": [
      "re.findall('\\d','shengjingbing=10')->['1', '0']\n",
      "re.findall('\\D','shenjingbing神经病=10')->['s', 'h', 'e', 'n', 'j', 'i', 'n', 'g', 'b', 'i', 'n', 'g', '神', '经', '病', '=']\n",
      "re.findall('[^0-9]','shenjingbing=10')->['s', 'h', 'e', 'n', 'j', 'i', 'n', 'g', 'b', 'i', 'n', 'g', '=']\n"
     ]
    }
   ],
   "source": [
    "\n",
    "print(\"re.findall('\\d','shengjingbing=10')->{}\".format(re.findall('\\d','shenjingbing=10')))#/d指的是任何的十进制数\n",
    "print(\"re.findall('\\D','shenjingbing神经病=10')->{}\".format(re.findall('\\D','shenjingbing神经病=10')))#/D匹配任何非数字字符\n",
    "print(\"re.findall('[^0-9]','shenjingbing=10')->{}\".format(re.findall('[^0-9]','shenjingbing=10')))\n"
   ]
  },
  {
   "cell_type": "code",
   "execution_count": 4,
   "id": "3fb28014-a1cb-463f-9390-6dc74ebb156c",
   "metadata": {},
   "outputs": [
    {
     "name": "stdout",
     "output_type": "stream",
     "text": [
      "re.findall('[a-z]','python')->['p', 'y', 't', 'h', 'o', 'n']\n",
      "re.search('[a-z]+','python')-><re.Match object; span=(0, 6), match='python'>\n",
      "re.search('[a-z]+','python')->found it!\n",
      "re.split(',','Hello,,,,,,Python!')->['Hello', '', '', '', '', '', 'Python!']\n",
      "re.sub('Python','Grasshopper','Hello Python!')->Hello Grasshopper!\n",
      "pattern_compile.findall('Hello,,,,,,Python!')->['Python']\n",
      "re.match('p','python')->found it!\n"
     ]
    }
   ],
   "source": [
    "#re模块方法\n",
    "print(\"re.findall('[a-z]','python')->{}\".format(re.findall('[a-z]','python-3.0')))\n",
    "print(\"re.search('[a-z]+','python')->{}\".format(re.search('[a-z]+','python')))\n",
    "if re.search('[a-z]+','python'):\n",
    "    print(\"re.search('[a-z]+','python')->found it!\")\n",
    "print(\"re.split(',','Hello,,,,,,Python!')->{}\".format(re.split(',','Hello,,,,,,Python!')))\n",
    "print(\"re.sub('Python','Grasshopper','Hello Python!')->{}\".format(re.sub('Python','Grasshopper','Hello Python!')))\n",
    "\n",
    "pattern_compile=re.compile('Python')\n",
    "print(\"pattern_compile.findall('Hello,,,,,,Python!')->{}\".format(pattern_compile.findall('Hello,,,,,,Python!')))\n",
    "\n",
    "if re.match('p','python'):\n",
    "    print(\"re.match('p','python')->found it!\")\n"
   ]
  },
  {
   "cell_type": "code",
   "execution_count": 21,
   "id": "9a94cce1-4408-43e7-b81c-6389349e42b5",
   "metadata": {},
   "outputs": [
    {
     "name": "stdout",
     "output_type": "stream",
     "text": [
      "'python'.find('兔子')->0\n",
      "'python'.find('子')->1\n",
      "'python'.find('爱')->-1\n",
      "'兔' in '兔子'->True\n"
     ]
    }
   ],
   "source": [
    "print(\"\\'python\\'.find(\\'兔子\\')->{}\".format('兔子'.find('兔子')))\n",
    "print(\"\\'python\\'.find(\\'子\\')->{}\".format('兔子'.find('子')))\n",
    "print(\"\\'python\\'.find(\\'爱\\')->{}\".format('兔子'.find('爱')))\n",
    "print(\"\\'兔\\' in \\'兔子\\'->{}\".format('兔' in '兔子'))\n"
   ]
  },
  {
   "cell_type": "code",
   "execution_count": 25,
   "id": "53277aa1-6d28-4f19-b6be-29ad81556e85",
   "metadata": {},
   "outputs": [
    {
     "name": "stdout",
     "output_type": "stream",
     "text": [
      "'我喜欢！！！兔子!'.split('！')->['我喜欢', '', '', '兔子!']\n",
      "'Hello 兔子!'.replace('兔子','老虎')->Hello 老虎!\n"
     ]
    }
   ],
   "source": [
    "print(\"\\'我喜欢！！！兔子!\\'.split('！')->{}\".format( '我喜欢！！！兔子!'.split('！')))#split拆分字符串\n",
    "print(\"\\'Hello 兔子!\\'.replace(\\'兔子\\',\\'老虎\\')->{}\".format( 'Hello 兔子!'.replace('兔子','老虎')))\n"
   ]
  },
  {
   "cell_type": "code",
   "execution_count": 26,
   "id": "e97f44b2-531f-4a1c-b678-9372332d8bad",
   "metadata": {},
   "outputs": [
    {
     "name": "stdout",
     "output_type": "stream",
     "text": [
      "match_1gourp(1)->python\n",
      "match_1.start(1)->4\n",
      "match_1.end(1)->10\n",
      "match_1.span(1)->(4, 10)\n",
      "match_2.group(1)->python\n",
      "match_2.group(2)->org\n"
     ]
    }
   ],
   "source": [
    "match_1=re.match(r'www\\.(.*)\\..{3}','www.python.org')\n",
    "print(\"match_1gourp(1)->{}\".format(match_1.group(1)))\n",
    "print(\"match_1.start(1)->{}\".format(match_1.start(1)))\n",
    "print(\"match_1.end(1)->{}\".format(match_1.end(1)))\n",
    "print(\"match_1.span(1)->{}\".format(match_1.span(1)))\n",
    "match_2=re.match(r'www\\.(.*)\\.(.{3})','www.python.org')\n",
    "print(\"match_2.group(1)->{}\".format(match_2.group(1)))\n",
    "print(\"match_2.group(2)->{}\".format(match_2.group(2)))\n"
   ]
  },
  {
   "cell_type": "code",
   "execution_count": 8,
   "id": "af9bc182-c5d6-47ac-be26-60f333275f7d",
   "metadata": {},
   "outputs": [
    {
     "name": "stdout",
     "output_type": "stream",
     "text": [
      "lst_1=[29, 31, 33, 35]\n",
      "__________________________________________________\n",
      "for i in lst_1:\n",
      "29\n",
      "31\n",
      "33\n",
      "35\n",
      "for i in range(len(lst_1)):\n",
      "idx=0,val=29\n",
      "idx=1,val=31\n",
      "idx=2,val=33\n",
      "idx=3,val=35\n",
      "++++++++++++++++++++++++++++++++++++++++++++++++++\n",
      "dic_4={'a': 2, 'b': 3, 'c': 6, 'd': 0}\n",
      "__________________________________________________\n",
      "for k in dic_4:\n",
      "a\n",
      "b\n",
      "c\n",
      "d\n",
      "for k,v in dic_4.items():\n",
      "key=a,val=2\n",
      "key=b,val=3\n",
      "key=c,val=6\n",
      "key=d,val=0\n"
     ]
    }
   ],
   "source": [
    "#3.4.1循环语句\n",
    "#for 循环\n",
    "lst_1=list(range(29,37,2))\n",
    "print(\"lst_1={}\".format(lst_1))\n",
    "print(\"_\"*50)\n",
    "print(\"for i in lst_1:\")\n",
    "for i in lst_1:\n",
    "    print(i)\n",
    "print(\"for i in range(len(lst_1)):\")\n",
    "for i in range(len(lst_1)):\n",
    "    print(\"idx={},val={}\".format(i,lst_1[i]))\n",
    "print(\"+\"*50)   \n",
    "dic_4=dict(a=2,b=3,c=6,d=0)\n",
    "print(\"dic_4={}\".format(dic_4))\n",
    "print(\"_\"*50)\n",
    "print(\"for k in dic_4:\")\n",
    "for k in dic_4:\n",
    "    print(k)\n",
    "print(\"for k,v in dic_4.items():\")\n",
    "for k,v in dic_4.items():\n",
    "    print(\"key={},val={}\".format(k,v))\n"
   ]
  },
  {
   "cell_type": "code",
   "execution_count": 29,
   "id": "d9b0be3e-4eb5-4cef-870f-18326b5f8522",
   "metadata": {},
   "outputs": [
    {
     "name": "stdout",
     "output_type": "stream",
     "text": [
      "x=1\n",
      "x=21\n",
      "x=41\n",
      "x=61\n",
      "x=81\n",
      "x=101\n",
      "x=121\n",
      "x=141\n",
      "x=161\n",
      "x=181\n"
     ]
    }
   ],
   "source": [
    "#while循环\n",
    "x=1\n",
    "while x<=200:\n",
    "    print(\"x={}\".format(x))\n",
    "    x+=20 #增量赋值，一次加二十   \n"
   ]
  },
  {
   "cell_type": "code",
   "execution_count": 28,
   "id": "bb606b26-d4ff-490d-b0ba-d970433b62e4",
   "metadata": {},
   "outputs": [
    {
     "name": "stdout",
     "output_type": "stream",
     "text": [
      "x=1\n",
      "x=11\n",
      "x=21\n",
      "x=31\n",
      "x=41\n",
      "sys.maxsize=9223372036854775807\n",
      "i=0\n",
      "i=1\n",
      "i=2\n",
      "i=3\n",
      "i=4\n",
      "i=5\n",
      "i=6\n",
      "i=7\n",
      "i=8\n",
      "i=9\n",
      "i=10\n",
      "i=11\n",
      "i=12\n",
      "i=13\n",
      "i=14\n",
      "i=15\n",
      "i=16\n",
      "i=17\n",
      "i=18\n",
      "i=19\n",
      "i=20\n"
     ]
    }
   ],
   "source": [
    "x=1\n",
    "while x<=100:\n",
    "    print(\"x={}\".format(x))\n",
    "    x+=10 \n",
    "    if x>=50:break#break中止    \n",
    "    \n",
    "import sys#用来处理Python运行时环境的模块，它提供了许多函数和变量来处理Python运行时环境的不同部分\n",
    "print(\"sys.maxsize={}\".format(sys.maxsize))\n",
    "for i in range(sys.maxsize):\n",
    "    print(\"i={}\".format(i))  \n",
    "    i+=10\n",
    "    if i>=30:break\n"
   ]
  },
  {
   "cell_type": "code",
   "execution_count": null,
   "id": "3b8914f9-42c1-437d-afbe-f54027a1d789",
   "metadata": {
    "scrolled": true
   },
   "outputs": [],
   "source": [
    "d={\"用户名\"}\n",
    "\n",
    "while True:\n",
    "    name = input('请输入您的用户名:')\n",
    "    if name in d:\n",
    "        break\n",
    "    else:\n",
    "        print('您输入的用户名不存在，请重新输入')"
   ]
  },
  {
   "cell_type": "code",
   "execution_count": null,
   "id": "e1c48cc9-afc8-46c2-812d-f4bf73b2ba04",
   "metadata": {},
   "outputs": [],
   "source": [
    "import pandas as pd #简化，方便后续引用，将pandimport pandas as pd\n",
    "elevation_df=pd.read_csv(topography_fp, delimiter = \",\",header=None) \n",
    "print(elevation_df)import pandas as pd\n",
    "elevation_df=pd.read_csv(topography_fp, delimiter = \",\",header=None) \n",
    "print(elevation_df)import pandas as pd\n",
    "elevation_df=pd.read_csv(topography_fp, delimiter = \",\",header=None) \n",
    "print(elevation_df)import pandas as pd\n",
    "elevation_df=pd.read_csv(topography_fp, delimiter = \",\",header=None) \n",
    "print(elevation_df)import pandas as pd\n",
    "elevation_df=pd.read_csv(topography_fp, delimiter = \",\",header=None) \n",
    "print(elevation_df)import pandas as pd\n",
    "elevation_df=pd.read_csv(topography_fp, delimiter = \",\",header=None) \n",
    "print(elevation_df)import pandas as pd\n",
    "elevation_df=pd.read_csv(topography_fp, delimiter = \",\",header=None) \n",
    "print(elevation_df)import pandas as pd\n",
    "elevation_df=pd.read_csv(topography_fp, delimiter = \",\",header=None) \n",
    "print(elevation_df)as简化为pd\n",
    "elevation_df=pd.read_csv(topography_fp, delimiter = \",\",header=None) \n",
    "print(elevation_df)\n"
   ]
  },
  {
   "cell_type": "code",
   "execution_count": null,
   "id": "19a2718d-d446-4248-8e93-32f4fc01d234",
   "metadata": {},
   "outputs": [],
   "source": [
    "lst_a=[0,1,2,3]\n",
    "lst_b=['point_a','point_b','point_c','point_d']\n",
    "zip_lst=zip(lst_a,lst_b) #The zip() function takes iterables (can be zero or more), aggregates them in a tuple, and returns it.\n",
    "print(\"zip_lst=zip(lst_a,lst_b)->{}\".format(zip_lst))\n",
    "print(\"dict(zip_lst)->{}\".format(dict(zip_lst)))\n",
    "\n",
    "zip_lst=zip(lst_a,lst_b) #迭代对象临时存储，读取完后为空\n",
    "for a,b in zip_lst:\n",
    "    print(a,b)\n",
    "    \n",
    "zip_lst=zip(lst_a,lst_b)\n",
    "a,b=zip(*zip_lst)\n",
    "print(\"a={},b={}\".format(a,b))\n"
   ]
  },
  {
   "cell_type": "code",
   "execution_count": null,
   "id": "d59bd0f6-9b28-431f-bbb1-35a20a408293",
   "metadata": {},
   "outputs": [],
   "source": [
    "lst_c=['point_a','point_b','point_c','point_d']\n",
    "dic_4={}\n",
    "for idx,value in enumerate(lst_c):\n",
    "    dic_4[idx]=value\n",
    "print(\"dic_4={}\".format(dic_4))\n",
    "print(\"dict((i,v) for i,v in enumerate(lst_c))->{}\".format(dict((i,v) for i,v in enumerate(lst_c)))) #list comprehension\n",
    "print(\"_\"*50)\n",
    "for i,(a,b) in enumerate(zip(lst_a,lst_b)):\n",
    "    print('%d:%s,%s'%(i,a,b))\n"
   ]
  },
  {
   "cell_type": "code",
   "execution_count": 15,
   "id": "1ad10d6b-1dd1-4724-a2b2-1ce075af620e",
   "metadata": {},
   "outputs": [
    {
     "name": "stdout",
     "output_type": "stream",
     "text": [
      "[x*x for x in range(3,37,5) if x%2==0]->[64, 324, 784]\n",
      "[(x,y) for x in range(3)for y in range(2)]->[(0, 0), (0, 1), (1, 0), (1, 1), (2, 0), (2, 1)]\n",
      "[(x,y) for x,y in zip(range(3),range(2))]->[(0, 0), (1, 1)]\n",
      "[[a for a in range(1,10,3)],2,3,[b for b in range(60,100,7)],[[c for c in range(1000,2000,120)],3,9]]->[[1, 4, 7], 2, 3, [60, 67, 74, 81, 88, 95], [[1000, 1120, 1240, 1360, 1480, 1600, 1720, 1840, 1960], 3, 9]]\n",
      "flatten_lst(nested_list)->[1, 4, 7, 2, 3, 60, 67, 74, 81, 88, 95, 1000, 1120, 1240, 1360, 1480, 1600, 1720, 1840, 1960, 3, 9]\n"
     ]
    }
   ],
   "source": [
    "print(\"[x*x for x in range(3,37,5) if x%2==0]->{}\".format([x*x for x in range(3,37,5) if x%2==0]))\n",
    "print(\"[(x,y) for x in range(3)for y in range(2)]->{}\".format([(x,y) for x in range(3)for y in range(2)]))\n",
    "print(\"[(x,y) for x,y in zip(range(3),range(2))]->{}\".format([(x,y) for x,y in zip(range(3),range(2))]))\n",
    "nested_list=[[a for a in range(1,10,3)],2,3,[b for b in range(60,100,7)],[[c for c in range(1000,2000,120)],3,9]]\n",
    "print(\"[[a for a in range(1,10,3)],2,3,[b for b in range(60,100,7)],[[c for c in range(1000,2000,120)],3,9]]->{}\".format(nested_list)) #嵌套列表推导式\n",
    "\n",
    "flatten_lst=lambda lst: [m for n_lst in lst for m in flatten_lst(n_lst)] if type(lst) is list else [lst] #展平列表常用，可以放置到单独的.py文件中调用。lambda函数后文阐述\n",
    "print(\"flatten_lst(nested_list)->{}\".format(flatten_lst(nested_list)))\n"
   ]
  },
  {
   "cell_type": "code",
   "execution_count": null,
   "id": "f1930556-dcdf-4d6f-bc9a-c76dcd21ada1",
   "metadata": {},
   "outputs": [],
   "source": [
    "if expression:\n",
    "    statements\n",
    "elif expression:\n",
    "    statements\n",
    "elif expression:\n",
    "    pass\n",
    "...\n",
    "else:\n",
    "    statements\n"
   ]
  },
  {
   "cell_type": "code",
   "execution_count": 17,
   "id": "dc91f9ab-4169-40be-af31-3a1f25a29857",
   "metadata": {},
   "outputs": [
    {
     "name": "stdout",
     "output_type": "stream",
     "text": [
      "x==y->True\n",
      "x is y->True\n",
      "x==z->True\n",
      "x is z->False\n",
      "x is not y->False\n",
      "x is not z->True\n",
      "id_x:2374491179200;id_y:2374491179200;id_z:2374491180928\n",
      "x=[3, 6],y=[3, 6],z=[3, 6, 9] after del x[2]\n"
     ]
    }
   ],
   "source": [
    "x=y=[3,6,9]\n",
    "z=[3,6,9]\n",
    "print(\"x==y->{}\".format(x==y))\n",
    "print(\"x is y->{}\".format(x is y))\n",
    "print(\"x==z->{}\".format(x==z))\n",
    "print(\"x is z->{}\".format(x is z))\n",
    "print(\"x is not y->{}\".format(x is not y))\n",
    "print(\"x is not z->{}\".format(x is not z))\n",
    "print(\"id_x:{};id_y:{};id_z:{}\".format(id(x),id(y),id(z))) #Memory Location\n",
    "\n",
    "del x[2]\n",
    "print(\"x={},y={},z={} after del x[2]\".format(x,y,z))\n"
   ]
  },
  {
   "cell_type": "code",
   "execution_count": 18,
   "id": "c0a0dda2-60bb-44cb-98a4-99705a91fd0f",
   "metadata": {},
   "outputs": [
    {
     "name": "stdout",
     "output_type": "stream",
     "text": [
      "3 in x->True\n",
      "0 in x->False\n",
      "3 not in x->False\n",
      "0 not in x->True\n"
     ]
    }
   ],
   "source": [
    "x=[3,6,9]\n",
    "print(\"3 in x->{}\".format(3 in x))\n",
    "print(\"0 in x->{}\".format(0 in x))\n",
    "print(\"3 not in x->{}\".format(3 not in x))\n",
    "print(\"0 not in x->{}\".format(0 not in x))\n"
   ]
  },
  {
   "cell_type": "code",
   "execution_count": 19,
   "id": "842a5cb7-b576-43fe-a00c-9f8d2f554a62",
   "metadata": {},
   "outputs": [
    {
     "name": "stdout",
     "output_type": "stream",
     "text": [
      "a<c<b kidding!!!\n"
     ]
    }
   ],
   "source": [
    "a,b,c=0,10,15\n",
    "if c>a and c<b:\n",
    "    print('a<c<b')\n",
    "else: print('a<c<b kidding!!!')\n"
   ]
  },
  {
   "cell_type": "code",
   "execution_count": 20,
   "id": "a9f8951f-6de7-465c-9726-59e606e47ec3",
   "metadata": {},
   "outputs": [],
   "source": [
    "def function(arguments):\n",
    "    statement\n",
    "    ...\n",
    "    return values\n"
   ]
  },
  {
   "cell_type": "code",
   "execution_count": null,
   "id": "28b568da-35e8-416f-b70a-5ed3be24b0a3",
   "metadata": {},
   "outputs": [],
   "source": [
    "print(\"simple_func(3,7)->{}\".format(simple_func(3,7)))\n",
    "print(\"simple_func(7,3)->{}\".format(simple_func(7,3)))\n",
    "print(\"simple_func(y=7,x=3)->{}\".format(simple_func(y=7,x=3)))\n"
   ]
  },
  {
   "cell_type": "code",
   "execution_count": 23,
   "id": "24779c90-a110-40a8-afea-91da425a46f8",
   "metadata": {},
   "outputs": [
    {
     "name": "stdout",
     "output_type": "stream",
     "text": [
      "fibonacci(6,9)->[5, 8, 13, 21, 34, 55, 89, 144, 233]\n",
      "fibonacci(7,9)->[8, 13, 21, 34, 55, 89, 144, 233, 377]\n"
     ]
    }
   ],
   "source": [
    "def fibonacci(s,count): #定义fib函数的方法较笨\n",
    "    fib_lst=[0,1]\n",
    "    fib_part=[]\n",
    "    if s==0 or s==1:\n",
    "        fib_part[:]=fib_lst\n",
    "        for i in range(count-2):\n",
    "            fib_part.append(fib_part[-1]+fib_part[-2])\n",
    "    else:\n",
    "        while True:\n",
    "            fib_lst[:]=[fib_lst[1],fib_lst[0]+fib_lst[1]]\n",
    "            #print(fib_lst)\n",
    "            if fib_lst[1]-s>=0:break\n",
    "        fib_part[:]=fib_lst\n",
    "        if abs(fib_lst[0]-s)>=abs(fib_lst[1]-s):\n",
    "            for i in range(count-1):\n",
    "                fib_part.append(fib_part[-1]+fib_part[-2])\n",
    "            fib_part.pop(0)\n",
    "        else:\n",
    "            for i in range(count-2):\n",
    "                fib_part.append(fib_part[-1]+fib_part[-2])\n",
    "    return fib_part\n",
    "\n",
    "print(\"fibonacci(6,9)->{}\".format(fibonacci(6,9)))\n",
    "print(\"fibonacci(7,9)->{}\".format(fibonacci(7,9)))\n"
   ]
  },
  {
   "cell_type": "code",
   "execution_count": 24,
   "id": "a991bc58-1077-44c3-9f30-273aabbe473e",
   "metadata": {},
   "outputs": [
    {
     "name": "stdout",
     "output_type": "stream",
     "text": [
      "5040\n"
     ]
    }
   ],
   "source": [
    "def factorial(n):\n",
    "    if n==1:\n",
    "        return 1\n",
    "    else:\n",
    "        return n*factorial(n-1)\n",
    "print(factorial(7))\n"
   ]
  },
  {
   "cell_type": "code",
   "execution_count": 29,
   "id": "fad9e18f-398f-4ef2-baec-9265e41d4a64",
   "metadata": {},
   "outputs": [
    {
     "name": "stdout",
     "output_type": "stream",
     "text": [
      "swift.fly->Whirring\n",
      "swift.eat()->\n",
      "Aaaah...\n",
      "swift.eat()->\n",
      "No.Thanks!\n",
      "swift.sing()->\n",
      "Squawk!\n"
     ]
    }
   ],
   "source": [
    "class Bird:\n",
    "    fly='Whirring' #美 /wɜːr/ \n",
    "    def __init__(self):\n",
    "        self.hungry=True\n",
    "    def eat(self):\n",
    "        if self.hungry:\n",
    "            print('Aaaah...')\n",
    "            self.hungry=False\n",
    "        else:\n",
    "            print('No.Thanks!')\n",
    "\n",
    "class Apodidae(Bird):  #/'æpədədi:/\n",
    "    def __init__(self):\n",
    "        super(Apodidae,self).__init__()\n",
    "        self.sound='Squawk!' #美 /skwɔːk/ \n",
    "    def sing(self):\n",
    "        print(self.sound)\n",
    "swift=Apodidae()\n",
    "print(\"swift.fly->{}\".format(swift.fly))\n",
    "print(\"swift.eat()->\")\n",
    "swift.eat()\n",
    "print(\"swift.eat()->\")\n",
    "swift.eat()\n",
    "print(\"swift.sing()->\")\n",
    "swift.sing()\n"
   ]
  },
  {
   "cell_type": "code",
   "execution_count": 30,
   "id": "30e1dfd2-b1fd-48f5-ae05-59d223640bde",
   "metadata": {},
   "outputs": [
    {
     "name": "stdout",
     "output_type": "stream",
     "text": [
      "blackswift.sing()->\n",
      "Squawk!\n",
      "scarceswift.sing()->\n",
      "Squawk!\n"
     ]
    }
   ],
   "source": [
    "blackswift=Apodidae()\n",
    "scarceswift=Apodidae()\n",
    "print(\"blackswift.sing()->\")\n",
    "blackswift.sing()\n",
    "print(\"scarceswift.sing()->\")\n",
    "scarceswift.sing()\n"
   ]
  },
  {
   "cell_type": "code",
   "execution_count": 31,
   "id": "867c7b7f-0d9b-4701-8db1-d34e8184175e",
   "metadata": {},
   "outputs": [
    {
     "name": "stdout",
     "output_type": "stream",
     "text": [
      "blackswift.fly->Whirring\n",
      "blackswift.fly after redefining the blackswif's attribute->humming\n",
      "scarceswift.fly->Whirring\n"
     ]
    }
   ],
   "source": [
    "print(\"blackswift.fly->{}\".format(blackswift.fly))\n",
    "blackswift.fly='humming' #重新赋予实例的属性\n",
    "print(\"blackswift.fly after redefining the blackswif's attribute->{}\".format(blackswift.fly))\n",
    "print(\"scarceswift.fly->{}\".format(scarceswift.fly))\n"
   ]
  },
  {
   "cell_type": "code",
   "execution_count": 32,
   "id": "c5d1f82c-f429-474a-b07b-2b78ebccf20a",
   "metadata": {},
   "outputs": [
    {
     "name": "stdout",
     "output_type": "stream",
     "text": [
      "Squawk!\n"
     ]
    }
   ],
   "source": [
    "blackswift.sing()\n"
   ]
  },
  {
   "cell_type": "code",
   "execution_count": 33,
   "id": "cba39b30-5d00-4654-91f8-3c47983f60c1",
   "metadata": {},
   "outputs": [
    {
     "name": "stdout",
     "output_type": "stream",
     "text": [
      "Help on class Bird in module __main__:\n",
      "\n",
      "class Bird(builtins.object)\n",
      " |  Methods defined here:\n",
      " |  \n",
      " |  __init__(self)\n",
      " |      Initialize self.  See help(type(self)) for accurate signature.\n",
      " |  \n",
      " |  eat(self)\n",
      " |  \n",
      " |  ----------------------------------------------------------------------\n",
      " |  Data descriptors defined here:\n",
      " |  \n",
      " |  __dict__\n",
      " |      dictionary for instance variables (if defined)\n",
      " |  \n",
      " |  __weakref__\n",
      " |      list of weak references to the object (if defined)\n",
      " |  \n",
      " |  ----------------------------------------------------------------------\n",
      " |  Data and other attributes defined here:\n",
      " |  \n",
      " |  fly = 'Whirring'\n",
      "\n"
     ]
    }
   ],
   "source": [
    "help(Bird)\n"
   ]
  },
  {
   "cell_type": "code",
   "execution_count": 34,
   "id": "15c25cd6-ca96-4c69-b303-fc3c9f3019ee",
   "metadata": {},
   "outputs": [
    {
     "name": "stdout",
     "output_type": "stream",
     "text": [
      "Help on class Apodidae in module __main__:\n",
      "\n",
      "class Apodidae(Bird)\n",
      " |  Method resolution order:\n",
      " |      Apodidae\n",
      " |      Bird\n",
      " |      builtins.object\n",
      " |  \n",
      " |  Methods defined here:\n",
      " |  \n",
      " |  __init__(self)\n",
      " |      Initialize self.  See help(type(self)) for accurate signature.\n",
      " |  \n",
      " |  sing(self)\n",
      " |  \n",
      " |  ----------------------------------------------------------------------\n",
      " |  Methods inherited from Bird:\n",
      " |  \n",
      " |  eat(self)\n",
      " |  \n",
      " |  ----------------------------------------------------------------------\n",
      " |  Data descriptors inherited from Bird:\n",
      " |  \n",
      " |  __dict__\n",
      " |      dictionary for instance variables (if defined)\n",
      " |  \n",
      " |  __weakref__\n",
      " |      list of weak references to the object (if defined)\n",
      " |  \n",
      " |  ----------------------------------------------------------------------\n",
      " |  Data and other attributes inherited from Bird:\n",
      " |  \n",
      " |  fly = 'Whirring'\n",
      "\n"
     ]
    }
   ],
   "source": [
    "help(Apodidae)\n"
   ]
  },
  {
   "cell_type": "code",
   "execution_count": null,
   "id": "d0b259af-db94-4b1f-b918-814814218b5e",
   "metadata": {},
   "outputs": [],
   "source": [
    "class Fibs():\n",
    "    def __init__(self):\n",
    "        self.a=0\n",
    "        self.b=1\n",
    "    def next(self):  #实现迭代器的next方法\n",
    "        self.a,self.b=self.b,self.a+self.b\n",
    "        return self.a\n",
    "    def __iter__(self): #实现迭代方法\n",
    "        return self\n",
    "f=Fibs()\n",
    "fa=[]\n",
    "fb=[]\n",
    "for i in range(9):\n",
    "    fa.append(f.next())\n",
    "print(\"fa={}\".format(fa))\n",
    "for i in range(5):\n",
    "    fb.append(f.next())\n",
    "print(\"fb={}\".format(fb))\n"
   ]
  },
  {
   "cell_type": "code",
   "execution_count": null,
   "id": "3553f0c1-34f2-46c2-abcd-08190e6f220e",
   "metadata": {},
   "outputs": [],
   "source": [
    "lst_d=list(range(3,20,2))\n",
    "print(\"lst_d={}\".format(lst_d))\n",
    "print(\"_\"*50)\n",
    "lst_iter=iter(lst)\n",
    "print(\"next(lst_iter)->{}\".format(next(lst_iter)))\n",
    "print(\"next(lst_iter)->{}\".format(next(lst_iter)))\n",
    "for i in lst_iter:\n",
    "    print(i)\n",
    "next(lst_iter)\n"
   ]
  },
  {
   "cell_type": "code",
   "execution_count": null,
   "id": "5ece931d-d40b-44e3-aaec-6f495d77e8c0",
   "metadata": {},
   "outputs": [],
   "source": [
    "lst_e=[list(range(3,20,3)),[3,7,67,list(range(5)),89]]\n",
    "print(\"lst_e={}\".format(lst_e))\n",
    "print(\"_\"*50)\n",
    "flatten_lst=[]\n",
    "for v_1 in lst_e:\n",
    "    try:\n",
    "        for v_2 in v_1:\n",
    "            try:\n",
    "                for v_3 in v_2:\n",
    "                    flatten_lst.append(v_3)\n",
    "            except TypeError:\n",
    "                flatten_lst.append(v_2)\n",
    "    except TypeError:\n",
    "        flatten_lst.append(v_1)\n",
    "print(\"flatten_lst={}\".format(flatten_lst))\n"
   ]
  },
  {
   "cell_type": "code",
   "execution_count": 40,
   "id": "431e3d4b-6e90-4639-9e70-62aff09599d9",
   "metadata": {},
   "outputs": [
    {
     "name": "stdout",
     "output_type": "stream",
     "text": [
      "list(flatten(lst_e))->[3, 6, 9, 12, 15, 18, 3, 7, 67, 0, 1, 2, 3, 4, 89]\n"
     ]
    }
   ],
   "source": [
    "def flatten(lst): #定义生成器（包含yield语句的函数）\n",
    "    try: #使用语句try\\except捕捉异常        \n",
    "        for n_lst in lst:  #循环列表            \n",
    "            for m in flatten(n_lst): #使用递归的方法循环子列表                \n",
    "                yield m  #使用yield语句，每次产生多个值，当返回一个值时函数就会被冻结，当再次激活时，从停止的那点开始执行\n",
    "    except TypeError:  #当函数被告知展开一个元素时，引发TypeError异常，生成器返回一个值\n",
    "        yield lst #生成器返回引发异常的一个值        \n",
    "print(\"list(flatten(lst_e))->{}\".format(list(flatten(lst_e))))"
   ]
  },
  {
   "cell_type": "code",
   "execution_count": 41,
   "id": "e984cd8e-cfd6-4424-a657-3084e9b6c53c",
   "metadata": {},
   "outputs": [
    {
     "name": "stdout",
     "output_type": "stream",
     "text": [
      "next(n)->num#0\n",
      "next(n)->num#1\n",
      "next(n)->num#2\n",
      "[next(n) for i in range(5)]->['num#3', 'num#4', 'num#5', 'num#6', 'num#7']\n"
     ]
    }
   ],
   "source": [
    "def infinite():\n",
    "    n=0\n",
    "    while True:\n",
    "        yield 'num#'+str(n)\n",
    "        n+=1\n",
    "n=infinite()\n",
    "print(\"next(n)->{}\".format(next(n)))\n",
    "print(\"next(n)->{}\".format(next(n)))\n",
    "print(\"next(n)->{}\".format(next(n)))\n",
    "print(\"[next(n) for i in range(5)]->{}\".format([next(n) for i in range(5)]))\n"
   ]
  },
  {
   "cell_type": "code",
   "execution_count": null,
   "id": "605b1b81-4133-4477-bd9c-3ad0242e4031",
   "metadata": {},
   "outputs": [],
   "source": [
    "n=3\n",
    "print(\"[[(2*pi*(2*(u/(n-1))-1),2*pi*(2*(v/(n-1))-1)) for u in range(n)] for v in range(n)]->{}\".format([[(2*pi*(2*(u/(n-1))-1),2*pi*(2*(v/(n-1))-1)) for u in range(n)] for v in range(n)]))\n",
    "print(\"_\"*50)\n",
    "print(\"([(2*pi*(2*(u/(n-1))-1),2*pi*(2*(v/(n-1))-1)) for u in range(n)] for v in range(n))->{}\".format(([(2*pi*(2*(u/(n-1))-1),2*pi*(2*(v/(n-1))-1)) for u in range(n)] for v in range(n))))\n",
    "gen=([(2*pi*(2*(u/(n-1))-1),2*pi*(2*(v/(n-1))-1)) for u in range(n)] for v in range(n))\n",
    "print(\"next(gen)->{}\".format(next(gen)))\n",
    "print(\"next(gen)->{}\".format(next(gen)))\n"
   ]
  },
  {
   "cell_type": "code",
   "execution_count": null,
   "id": "33f13b16-3736-46eb-9a25-dbe3d485d8c5",
   "metadata": {},
   "outputs": [],
   "source": [
    "try:\n",
    "    do something\n",
    "except:\n",
    "    do something\n"
   ]
  },
  {
   "cell_type": "code",
   "execution_count": 44,
   "id": "5d82ca56-f3d0-4690-a3bd-e57c0072fb61",
   "metadata": {},
   "outputs": [
    {
     "name": "stdout",
     "output_type": "stream",
     "text": [
      "f_convert_a('3.1415')->3.1415\n",
      "f_convert_a('string')->string\n",
      "f_convert_a(3,6,7)->(3, 6, 7)\n"
     ]
    }
   ],
   "source": [
    "def f_convert_a(x):\n",
    "    try:\n",
    "        return float(x)\n",
    "    except:\n",
    "        return x\n",
    "print(\"f_convert_a('3.1415')->{}\".format(f_convert_a('3.1415')))    \n",
    "print(\"f_convert_a('string')->{}\".format(f_convert_a('string')))  \n",
    "print(\"f_convert_a(3,6,7)->{}\".format(f_convert_a((3,6,7))))  \n"
   ]
  },
  {
   "cell_type": "code",
   "execution_count": null,
   "id": "fa89a64d-9efd-4cf6-8d4d-b07deb5abc6b",
   "metadata": {},
   "outputs": [],
   "source": [
    "try:\n",
    "    do something\n",
    "except TypeError:\n",
    "    do something\n",
    "except ValueError:\n",
    "    do something\n"
   ]
  },
  {
   "cell_type": "code",
   "execution_count": 46,
   "id": "e7c14fe9-fe07-40fb-9d7a-d63376133f72",
   "metadata": {},
   "outputs": [
    {
     "name": "stdout",
     "output_type": "stream",
     "text": [
      "f_convert_c('3.1415')->3.1415\n",
      "f_convert_c('string')->string\n",
      "(3, 6, 7) TypeError\n",
      "f_convert_c(3,6,7)->None\n"
     ]
    }
   ],
   "source": [
    "def f_convert_c(x):\n",
    "    try:\n",
    "        return float(x)\n",
    "    except ValueError:\n",
    "        return x\n",
    "    except TypeError:\n",
    "        print(x,'TypeError')\n",
    "print(\"f_convert_c('3.1415')->{}\".format(f_convert_c('3.1415')))    \n",
    "print(\"f_convert_c('string')->{}\".format(f_convert_c('string')))  \n",
    "print(\"f_convert_c(3,6,7)->{}\".format(f_convert_c((3,6,7))))         \n"
   ]
  },
  {
   "cell_type": "code",
   "execution_count": null,
   "id": "39a7c8e7-1ab2-46e9-ab70-c745b5d1e58c",
   "metadata": {},
   "outputs": [],
   "source": [
    "try:\n",
    "    do something\n",
    "except (TypeError, ValueError ):\n",
    "    do something\n"
   ]
  },
  {
   "cell_type": "code",
   "execution_count": null,
   "id": "b301b377-b263-4238-b5a0-87a9e8fa0227",
   "metadata": {},
   "outputs": [],
   "source": [
    "def f_convert_d(x):\n",
    "    try:\n",
    "        return float(x)\n",
    "    except (ValueError,TypeError):\n",
    "        print(x,'ValueError or TypeError')\n",
    "print(\"f_convert_d('3.1415')->{}\".format(f_convert_d('3.1415')))    \n",
    "print(\"f_convert_d('string')->{}\".format(f_convert_d('string')))  \n",
    "print(\"f_convert_d(3,6,7)->{}\".format(f_convert_d((3,6,7)))) "
   ]
  },
  {
   "cell_type": "code",
   "execution_count": null,
   "id": "86af4ead-82a7-4ce2-b7bd-d138fc0686ac",
   "metadata": {},
   "outputs": [],
   "source": [
    "try:\n",
    "    do something\n",
    "except (TypeError, ValueError ) as e:\n",
    "    do something\n"
   ]
  },
  {
   "cell_type": "code",
   "execution_count": 50,
   "id": "1c683aa8-ce15-46af-b223-1308dbe2f6b8",
   "metadata": {},
   "outputs": [
    {
     "name": "stdout",
     "output_type": "stream",
     "text": [
      "f_convert_e('3.1415')->3.1415\n",
      "string could not convert string to float: 'string'\n",
      "f_convert_e('string')->None\n",
      "(3, 6, 7) float() argument must be a string or a number, not 'tuple'\n",
      "f_convert_e(3,6,7)->None\n"
     ]
    }
   ],
   "source": [
    "def f_convert_e(x):\n",
    "    try:\n",
    "        return float(x)\n",
    "    except (ValueError,TypeError) as e:\n",
    "        return print(x,e)\n",
    "print(\"f_convert_e('3.1415')->{}\".format(f_convert_e('3.1415')))    \n",
    "print(\"f_convert_e('string')->{}\".format(f_convert_e('string')))  \n",
    "print(\"f_convert_e(3,6,7)->{}\".format(f_convert_e((3,6,7))))    \n"
   ]
  },
  {
   "cell_type": "code",
   "execution_count": null,
   "id": "e6687f86-2367-4fc6-b7dc-9ea3fe3ed2ce",
   "metadata": {},
   "outputs": [],
   "source": [
    "def f_convert_f(x):\n",
    "try:\n",
    "    return float(x)\n",
    "except ValueError as e:\n",
    "    pass\n"
   ]
  },
  {
   "cell_type": "code",
   "execution_count": 52,
   "id": "efb01a42-5755-44fa-adde-bdf230c370b1",
   "metadata": {},
   "outputs": [
    {
     "name": "stdout",
     "output_type": "stream",
     "text": [
      "f_convert_f('3.1415')->3.1415\n",
      "f_convert_f('string')->None\n",
      "f_convert_f(3,6,7)->None\n"
     ]
    }
   ],
   "source": [
    "def f_convert_f(x):\n",
    "    try:\n",
    "        return float(x)\n",
    "    except (ValueError,TypeError) as e:\n",
    "        pass\n",
    "print(\"f_convert_f('3.1415')->{}\".format(f_convert_f('3.1415')))    \n",
    "print(\"f_convert_f('string')->{}\".format(f_convert_f('string')))  \n",
    "print(\"f_convert_f(3,6,7)->{}\".format(f_convert_f((3,6,7))))     \n"
   ]
  },
  {
   "cell_type": "code",
   "execution_count": null,
   "id": "06051118-0b5d-4470-84fe-1541f03b05c0",
   "metadata": {},
   "outputs": [],
   "source": [
    "def f_open_a(fp):\n",
    "try:\n",
    "    do something\n",
    "except IOError as e:\n",
    "    do something\n",
    "else:\n",
    "    do something\n"
   ]
  },
  {
   "cell_type": "code",
   "execution_count": 54,
   "id": "a67aa6ca-2efe-42fa-84b9-ea4e9cd2e64d",
   "metadata": {},
   "outputs": [
    {
     "name": "stdout",
     "output_type": "stream",
     "text": [
      "Unable to open ./data/tryException.txt :[Errno 2] No such file or directory: './data/tryException.txt'\n",
      "\n",
      "tryException_content->None\n",
      "Unable to open ./data/tryException_.txt :[Errno 2] No such file or directory: './data/tryException_.txt'\n",
      "\n"
     ]
    }
   ],
   "source": [
    "def f_open_a(fp):\n",
    "    try:\n",
    "        f=open(fp,'r')\n",
    "    except IOError as e:\n",
    "        print('Unable to open',fp,':%s\\n' %e)\n",
    "    else:\n",
    "        data=f.read()\n",
    "        f.close\n",
    "        return data\n",
    "tryException_content=f_open_a(\"./data/tryException.txt\")   \n",
    "print(\"tryException_content->{}\".format(tryException_content))\n",
    "f_open_a(\"./data/tryException_.txt\")\n"
   ]
  },
  {
   "cell_type": "code",
   "execution_count": null,
   "id": "77a2a162-71a2-4c1d-8d43-e6a9294786cc",
   "metadata": {},
   "outputs": [],
   "source": [
    "raise Exception #没有任何有关错误信息的普通异常\n"
   ]
  },
  {
   "cell_type": "code",
   "execution_count": null,
   "id": "5d089e16-1b47-4f17-a49e-b4c69346e0e2",
   "metadata": {},
   "outputs": [],
   "source": [
    "raise Exception('Computer says no!') #添加错误信息的异常\n"
   ]
  },
  {
   "cell_type": "code",
   "execution_count": null,
   "id": "19a4140c-6378-4a3e-a47a-373059e006f5",
   "metadata": {},
   "outputs": [],
   "source": [
    "class some_custom_exception(Exception):pass #\n",
    "raise some_custom_exception\n"
   ]
  },
  {
   "cell_type": "code",
   "execution_count": 58,
   "id": "6a5bb0d7-ee1a-4a95-bf53-ed0dd3ec8078",
   "metadata": {},
   "outputs": [],
   "source": [
    "x=20\n",
    "assert x>0 #为真则不做任何事情\n"
   ]
  },
  {
   "cell_type": "code",
   "execution_count": null,
   "id": "45cd73e6-6fee-4f35-be8d-e68540bea16a",
   "metadata": {},
   "outputs": [],
   "source": [
    "assert x<0 #为假则引发AssertionError异常\n"
   ]
  },
  {
   "cell_type": "code",
   "execution_count": null,
   "id": "d2b9371e-85b6-4efd-a1b6-53580feaa2da",
   "metadata": {},
   "outputs": [],
   "source": []
  }
 ],
 "metadata": {
  "kernelspec": {
   "display_name": "Python 3",
   "language": "python",
   "name": "python3"
  },
  "language_info": {
   "codemirror_mode": {
    "name": "ipython",
    "version": 3
   },
   "file_extension": ".py",
   "mimetype": "text/x-python",
   "name": "python",
   "nbconvert_exporter": "python",
   "pygments_lexer": "ipython3",
   "version": "3.8.8"
  }
 },
 "nbformat": 4,
 "nbformat_minor": 5
}
